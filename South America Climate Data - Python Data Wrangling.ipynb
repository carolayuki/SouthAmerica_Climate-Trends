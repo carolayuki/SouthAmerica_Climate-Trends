{
 "cells": [
  {
   "cell_type": "markdown",
   "metadata": {},
   "source": [
    "## Project 4 - Notebook\n",
    "#### Team 4 - Jason, Carol, Nigel\n",
    "Question 1 and 2 are Python related!"
   ]
  },
  {
   "cell_type": "markdown",
   "metadata": {},
   "source": []
  },
  {
   "cell_type": "markdown",
   "metadata": {},
   "source": [
    "#### #1. Import libraries we may need"
   ]
  },
  {
   "cell_type": "code",
   "execution_count": 1,
   "metadata": {},
   "outputs": [],
   "source": [
    "import pandas as pd\n",
    "import numpy as np\n",
    "import matplotlib.pyplot as plt\n",
    "import seaborn as sns"
   ]
  },
  {
   "cell_type": "markdown",
   "metadata": {},
   "source": [
    "#### #2. Review all available documentation, e.g. data dictionary, readme, etc."
   ]
  },
  {
   "cell_type": "markdown",
   "metadata": {},
   "source": [
    "Source IDCJAC0010_066062_1800_Note.txt \n",
    "  \n",
    "Australian Government\n",
    "Bureau of Meteorology\n",
    "\n",
    "Notes for Daily Maximum Temperature Climate Data\n",
    "  \n",
    "Product code: IDCJAC0010 reference: 71786695\n",
    "____________________________________________"
   ]
  },
  {
   "cell_type": "markdown",
   "metadata": {},
   "source": [
    "#### #3. Read in the CSVs"
   ]
  },
  {
   "cell_type": "code",
   "execution_count": 2,
   "metadata": {},
   "outputs": [],
   "source": [
    "temp_sydney_df = pd.read_csv('IDCJAC0010_066062_1800_Data.csv')"
   ]
  },
  {
   "cell_type": "markdown",
   "metadata": {},
   "source": [
    "#### #4. Explore the data...  \n",
    "-- look at column headers  \n",
    "-- list of columns  \n",
    "-- look at overall shape of data rows x columns  \n",
    "-- remove useless columns  \n",
    "-- look for nulls  \n",
    "-- get an overview with ```describe()```"
   ]
  },
  {
   "cell_type": "code",
   "execution_count": 3,
   "metadata": {},
   "outputs": [
    {
     "data": {
      "text/html": [
       "<div>\n",
       "<style scoped>\n",
       "    .dataframe tbody tr th:only-of-type {\n",
       "        vertical-align: middle;\n",
       "    }\n",
       "\n",
       "    .dataframe tbody tr th {\n",
       "        vertical-align: top;\n",
       "    }\n",
       "\n",
       "    .dataframe thead th {\n",
       "        text-align: right;\n",
       "    }\n",
       "</style>\n",
       "<table border=\"1\" class=\"dataframe\">\n",
       "  <thead>\n",
       "    <tr style=\"text-align: right;\">\n",
       "      <th></th>\n",
       "      <th>Product code</th>\n",
       "      <th>Bureau of Meteorology station number</th>\n",
       "      <th>Year</th>\n",
       "      <th>Month</th>\n",
       "      <th>Day</th>\n",
       "      <th>Maximum temperature (Degree C)</th>\n",
       "      <th>Days of accumulation of maximum temperature</th>\n",
       "      <th>Quality</th>\n",
       "    </tr>\n",
       "  </thead>\n",
       "  <tbody>\n",
       "    <tr>\n",
       "      <th>0</th>\n",
       "      <td>IDCJAC0010</td>\n",
       "      <td>66062</td>\n",
       "      <td>1859</td>\n",
       "      <td>1</td>\n",
       "      <td>1</td>\n",
       "      <td>24.4</td>\n",
       "      <td>NaN</td>\n",
       "      <td>Y</td>\n",
       "    </tr>\n",
       "    <tr>\n",
       "      <th>1</th>\n",
       "      <td>IDCJAC0010</td>\n",
       "      <td>66062</td>\n",
       "      <td>1859</td>\n",
       "      <td>1</td>\n",
       "      <td>2</td>\n",
       "      <td>24.4</td>\n",
       "      <td>1.0</td>\n",
       "      <td>Y</td>\n",
       "    </tr>\n",
       "    <tr>\n",
       "      <th>2</th>\n",
       "      <td>IDCJAC0010</td>\n",
       "      <td>66062</td>\n",
       "      <td>1859</td>\n",
       "      <td>1</td>\n",
       "      <td>3</td>\n",
       "      <td>24.2</td>\n",
       "      <td>1.0</td>\n",
       "      <td>Y</td>\n",
       "    </tr>\n",
       "    <tr>\n",
       "      <th>3</th>\n",
       "      <td>IDCJAC0010</td>\n",
       "      <td>66062</td>\n",
       "      <td>1859</td>\n",
       "      <td>1</td>\n",
       "      <td>4</td>\n",
       "      <td>24.7</td>\n",
       "      <td>1.0</td>\n",
       "      <td>Y</td>\n",
       "    </tr>\n",
       "    <tr>\n",
       "      <th>4</th>\n",
       "      <td>IDCJAC0010</td>\n",
       "      <td>66062</td>\n",
       "      <td>1859</td>\n",
       "      <td>1</td>\n",
       "      <td>5</td>\n",
       "      <td>24.6</td>\n",
       "      <td>1.0</td>\n",
       "      <td>Y</td>\n",
       "    </tr>\n",
       "  </tbody>\n",
       "</table>\n",
       "</div>"
      ],
      "text/plain": [
       "  Product code  Bureau of Meteorology station number  Year  Month  Day  \\\n",
       "0   IDCJAC0010                                 66062  1859      1    1   \n",
       "1   IDCJAC0010                                 66062  1859      1    2   \n",
       "2   IDCJAC0010                                 66062  1859      1    3   \n",
       "3   IDCJAC0010                                 66062  1859      1    4   \n",
       "4   IDCJAC0010                                 66062  1859      1    5   \n",
       "\n",
       "   Maximum temperature (Degree C)  \\\n",
       "0                            24.4   \n",
       "1                            24.4   \n",
       "2                            24.2   \n",
       "3                            24.7   \n",
       "4                            24.6   \n",
       "\n",
       "   Days of accumulation of maximum temperature Quality  \n",
       "0                                          NaN       Y  \n",
       "1                                          1.0       Y  \n",
       "2                                          1.0       Y  \n",
       "3                                          1.0       Y  \n",
       "4                                          1.0       Y  "
      ]
     },
     "execution_count": 3,
     "metadata": {},
     "output_type": "execute_result"
    }
   ],
   "source": [
    "temp_sydney_df.head()"
   ]
  },
  {
   "cell_type": "code",
   "execution_count": 4,
   "metadata": {},
   "outputs": [
    {
     "data": {
      "text/plain": [
       "['Product code',\n",
       " 'Bureau of Meteorology station number',\n",
       " 'Year',\n",
       " 'Month',\n",
       " 'Day',\n",
       " 'Maximum temperature (Degree C)',\n",
       " 'Days of accumulation of maximum temperature',\n",
       " 'Quality']"
      ]
     },
     "execution_count": 4,
     "metadata": {},
     "output_type": "execute_result"
    }
   ],
   "source": [
    "list(temp_sydney_df.columns)"
   ]
  },
  {
   "cell_type": "code",
   "execution_count": 5,
   "metadata": {},
   "outputs": [
    {
     "data": {
      "text/plain": [
       "(59047, 8)"
      ]
     },
     "execution_count": 5,
     "metadata": {},
     "output_type": "execute_result"
    }
   ],
   "source": [
    "temp_sydney_df.shape"
   ]
  },
  {
   "cell_type": "code",
   "execution_count": 6,
   "metadata": {},
   "outputs": [],
   "source": [
    "null_df = pd.DataFrame(temp_sydney_df.isnull().sum(), columns=['Count of Nulls'])"
   ]
  },
  {
   "cell_type": "code",
   "execution_count": 7,
   "metadata": {},
   "outputs": [
    {
     "data": {
      "text/html": [
       "<div>\n",
       "<style scoped>\n",
       "    .dataframe tbody tr th:only-of-type {\n",
       "        vertical-align: middle;\n",
       "    }\n",
       "\n",
       "    .dataframe tbody tr th {\n",
       "        vertical-align: top;\n",
       "    }\n",
       "\n",
       "    .dataframe thead th {\n",
       "        text-align: right;\n",
       "    }\n",
       "</style>\n",
       "<table border=\"1\" class=\"dataframe\">\n",
       "  <thead>\n",
       "    <tr style=\"text-align: right;\">\n",
       "      <th></th>\n",
       "      <th>Count of Nulls</th>\n",
       "    </tr>\n",
       "  </thead>\n",
       "  <tbody>\n",
       "    <tr>\n",
       "      <th>Product code</th>\n",
       "      <td>0</td>\n",
       "    </tr>\n",
       "    <tr>\n",
       "      <th>Bureau of Meteorology station number</th>\n",
       "      <td>0</td>\n",
       "    </tr>\n",
       "    <tr>\n",
       "      <th>Year</th>\n",
       "      <td>0</td>\n",
       "    </tr>\n",
       "    <tr>\n",
       "      <th>Month</th>\n",
       "      <td>0</td>\n",
       "    </tr>\n",
       "    <tr>\n",
       "      <th>Day</th>\n",
       "      <td>0</td>\n",
       "    </tr>\n",
       "    <tr>\n",
       "      <th>Maximum temperature (Degree C)</th>\n",
       "      <td>152</td>\n",
       "    </tr>\n",
       "    <tr>\n",
       "      <th>Days of accumulation of maximum temperature</th>\n",
       "      <td>285</td>\n",
       "    </tr>\n",
       "    <tr>\n",
       "      <th>Quality</th>\n",
       "      <td>153</td>\n",
       "    </tr>\n",
       "  </tbody>\n",
       "</table>\n",
       "</div>"
      ],
      "text/plain": [
       "                                             Count of Nulls\n",
       "Product code                                              0\n",
       "Bureau of Meteorology station number                      0\n",
       "Year                                                      0\n",
       "Month                                                     0\n",
       "Day                                                       0\n",
       "Maximum temperature (Degree C)                          152\n",
       "Days of accumulation of maximum temperature             285\n",
       "Quality                                                 153"
      ]
     },
     "execution_count": 7,
     "metadata": {},
     "output_type": "execute_result"
    }
   ],
   "source": [
    "null_df"
   ]
  },
  {
   "cell_type": "markdown",
   "metadata": {
    "scrolled": true
   },
   "source": [
    "#### Curious about finding the nulls by year. Were there more nulls in a particular year? null_df['Year']"
   ]
  },
  {
   "cell_type": "code",
   "execution_count": 8,
   "metadata": {},
   "outputs": [],
   "source": [
    "#null_df.groupby(by=['Year'])"
   ]
  },
  {
   "cell_type": "code",
   "execution_count": 9,
   "metadata": {},
   "outputs": [
    {
     "data": {
      "text/plain": [
       "22.8    655\n",
       "23.3    652\n",
       "22.2    640\n",
       "20.6    638\n",
       "23.9    636\n",
       "       ... \n",
       "41.0      1\n",
       "41.8      1\n",
       "42.2      1\n",
       "42.1      1\n",
       "42.5      1\n",
       "Name: Maximum temperature (Degree C), Length: 335, dtype: int64"
      ]
     },
     "execution_count": 9,
     "metadata": {},
     "output_type": "execute_result"
    }
   ],
   "source": [
    "temp_sydney_df['Maximum temperature (Degree C)'].value_counts(dropna=False)\n",
    "#This doesn't show that there are nulls"
   ]
  },
  {
   "cell_type": "code",
   "execution_count": 10,
   "metadata": {},
   "outputs": [
    {
     "data": {
      "text/html": [
       "<div>\n",
       "<style scoped>\n",
       "    .dataframe tbody tr th:only-of-type {\n",
       "        vertical-align: middle;\n",
       "    }\n",
       "\n",
       "    .dataframe tbody tr th {\n",
       "        vertical-align: top;\n",
       "    }\n",
       "\n",
       "    .dataframe thead th {\n",
       "        text-align: right;\n",
       "    }\n",
       "</style>\n",
       "<table border=\"1\" class=\"dataframe\">\n",
       "  <thead>\n",
       "    <tr style=\"text-align: right;\">\n",
       "      <th></th>\n",
       "      <th>Bureau of Meteorology station number</th>\n",
       "      <th>Year</th>\n",
       "      <th>Month</th>\n",
       "      <th>Day</th>\n",
       "      <th>Maximum temperature (Degree C)</th>\n",
       "      <th>Days of accumulation of maximum temperature</th>\n",
       "    </tr>\n",
       "  </thead>\n",
       "  <tbody>\n",
       "    <tr>\n",
       "      <th>count</th>\n",
       "      <td>59047.0</td>\n",
       "      <td>59047.000000</td>\n",
       "      <td>59047.000000</td>\n",
       "      <td>59047.000000</td>\n",
       "      <td>58895.000000</td>\n",
       "      <td>58762.000000</td>\n",
       "    </tr>\n",
       "    <tr>\n",
       "      <th>mean</th>\n",
       "      <td>66062.0</td>\n",
       "      <td>1939.333328</td>\n",
       "      <td>6.514709</td>\n",
       "      <td>15.729216</td>\n",
       "      <td>21.744892</td>\n",
       "      <td>1.000017</td>\n",
       "    </tr>\n",
       "    <tr>\n",
       "      <th>std</th>\n",
       "      <td>0.0</td>\n",
       "      <td>46.669369</td>\n",
       "      <td>3.447166</td>\n",
       "      <td>8.799955</td>\n",
       "      <td>4.671444</td>\n",
       "      <td>0.004125</td>\n",
       "    </tr>\n",
       "    <tr>\n",
       "      <th>min</th>\n",
       "      <td>66062.0</td>\n",
       "      <td>1859.000000</td>\n",
       "      <td>1.000000</td>\n",
       "      <td>1.000000</td>\n",
       "      <td>7.700000</td>\n",
       "      <td>1.000000</td>\n",
       "    </tr>\n",
       "    <tr>\n",
       "      <th>25%</th>\n",
       "      <td>66062.0</td>\n",
       "      <td>1899.000000</td>\n",
       "      <td>4.000000</td>\n",
       "      <td>8.000000</td>\n",
       "      <td>18.200000</td>\n",
       "      <td>1.000000</td>\n",
       "    </tr>\n",
       "    <tr>\n",
       "      <th>50%</th>\n",
       "      <td>66062.0</td>\n",
       "      <td>1939.000000</td>\n",
       "      <td>7.000000</td>\n",
       "      <td>16.000000</td>\n",
       "      <td>21.600000</td>\n",
       "      <td>1.000000</td>\n",
       "    </tr>\n",
       "    <tr>\n",
       "      <th>75%</th>\n",
       "      <td>66062.0</td>\n",
       "      <td>1980.000000</td>\n",
       "      <td>10.000000</td>\n",
       "      <td>23.000000</td>\n",
       "      <td>24.900000</td>\n",
       "      <td>1.000000</td>\n",
       "    </tr>\n",
       "    <tr>\n",
       "      <th>max</th>\n",
       "      <td>66062.0</td>\n",
       "      <td>2020.000000</td>\n",
       "      <td>12.000000</td>\n",
       "      <td>31.000000</td>\n",
       "      <td>45.800000</td>\n",
       "      <td>2.000000</td>\n",
       "    </tr>\n",
       "  </tbody>\n",
       "</table>\n",
       "</div>"
      ],
      "text/plain": [
       "       Bureau of Meteorology station number          Year         Month  \\\n",
       "count                               59047.0  59047.000000  59047.000000   \n",
       "mean                                66062.0   1939.333328      6.514709   \n",
       "std                                     0.0     46.669369      3.447166   \n",
       "min                                 66062.0   1859.000000      1.000000   \n",
       "25%                                 66062.0   1899.000000      4.000000   \n",
       "50%                                 66062.0   1939.000000      7.000000   \n",
       "75%                                 66062.0   1980.000000     10.000000   \n",
       "max                                 66062.0   2020.000000     12.000000   \n",
       "\n",
       "                Day  Maximum temperature (Degree C)  \\\n",
       "count  59047.000000                    58895.000000   \n",
       "mean      15.729216                       21.744892   \n",
       "std        8.799955                        4.671444   \n",
       "min        1.000000                        7.700000   \n",
       "25%        8.000000                       18.200000   \n",
       "50%       16.000000                       21.600000   \n",
       "75%       23.000000                       24.900000   \n",
       "max       31.000000                       45.800000   \n",
       "\n",
       "       Days of accumulation of maximum temperature  \n",
       "count                                 58762.000000  \n",
       "mean                                      1.000017  \n",
       "std                                       0.004125  \n",
       "min                                       1.000000  \n",
       "25%                                       1.000000  \n",
       "50%                                       1.000000  \n",
       "75%                                       1.000000  \n",
       "max                                       2.000000  "
      ]
     },
     "execution_count": 10,
     "metadata": {},
     "output_type": "execute_result"
    }
   ],
   "source": [
    "temp_sydney_df.describe()"
   ]
  },
  {
   "cell_type": "markdown",
   "metadata": {},
   "source": [
    "#### #5. Review the questions..."
   ]
  },
  {
   "cell_type": "markdown",
   "metadata": {},
   "source": [
    "What has been the average temperature recorded in Sydney since records\n",
    "began?  \n",
    "We can get the answer to this from the exploration above but also from using series.mean()"
   ]
  },
  {
   "cell_type": "code",
   "execution_count": 11,
   "metadata": {},
   "outputs": [
    {
     "data": {
      "text/plain": [
       "21.74"
      ]
     },
     "execution_count": 11,
     "metadata": {},
     "output_type": "execute_result"
    }
   ],
   "source": [
    "round(temp_sydney_df['Maximum temperature (Degree C)'].mean(), 2)"
   ]
  },
  {
   "cell_type": "markdown",
   "metadata": {},
   "source": [
    "January in Sydney is hotter than July in Sydney, because January is summer ☀️ and\n",
    "July is winter 🌧.  \n",
    "What has been the average temperature recorded in Sydney in each month?  \n",
    "(i.e. What has the average been over all January days, all February days, ... etc.)"
   ]
  },
  {
   "cell_type": "code",
   "execution_count": 12,
   "metadata": {
    "scrolled": false
   },
   "outputs": [],
   "source": [
    "new_df = pd.DataFrame(temp_sydney_df.groupby(by=['Month'])['Maximum temperature (Degree C)'].mean()).reset_index()\n",
    "#new_df['Avg Daily Temp']=round(temp_sydney_df['Maximum temperature (Degree C)'].mean(), 2)"
   ]
  },
  {
   "cell_type": "code",
   "execution_count": 13,
   "metadata": {},
   "outputs": [
    {
     "data": {
      "text/html": [
       "<div>\n",
       "<style scoped>\n",
       "    .dataframe tbody tr th:only-of-type {\n",
       "        vertical-align: middle;\n",
       "    }\n",
       "\n",
       "    .dataframe tbody tr th {\n",
       "        vertical-align: top;\n",
       "    }\n",
       "\n",
       "    .dataframe thead th {\n",
       "        text-align: right;\n",
       "    }\n",
       "</style>\n",
       "<table border=\"1\" class=\"dataframe\">\n",
       "  <thead>\n",
       "    <tr style=\"text-align: right;\">\n",
       "      <th></th>\n",
       "      <th>Month</th>\n",
       "      <th>Maximum temperature (Degree C)</th>\n",
       "    </tr>\n",
       "  </thead>\n",
       "  <tbody>\n",
       "    <tr>\n",
       "      <th>0</th>\n",
       "      <td>1</td>\n",
       "      <td>26.013052</td>\n",
       "    </tr>\n",
       "    <tr>\n",
       "      <th>1</th>\n",
       "      <td>2</td>\n",
       "      <td>25.840514</td>\n",
       "    </tr>\n",
       "    <tr>\n",
       "      <th>2</th>\n",
       "      <td>3</td>\n",
       "      <td>24.812717</td>\n",
       "    </tr>\n",
       "    <tr>\n",
       "      <th>3</th>\n",
       "      <td>4</td>\n",
       "      <td>22.516035</td>\n",
       "    </tr>\n",
       "    <tr>\n",
       "      <th>4</th>\n",
       "      <td>5</td>\n",
       "      <td>19.532583</td>\n",
       "    </tr>\n",
       "    <tr>\n",
       "      <th>5</th>\n",
       "      <td>6</td>\n",
       "      <td>17.010163</td>\n",
       "    </tr>\n",
       "    <tr>\n",
       "      <th>6</th>\n",
       "      <td>7</td>\n",
       "      <td>16.422014</td>\n",
       "    </tr>\n",
       "    <tr>\n",
       "      <th>7</th>\n",
       "      <td>8</td>\n",
       "      <td>17.892974</td>\n",
       "    </tr>\n",
       "    <tr>\n",
       "      <th>8</th>\n",
       "      <td>9</td>\n",
       "      <td>20.085380</td>\n",
       "    </tr>\n",
       "    <tr>\n",
       "      <th>9</th>\n",
       "      <td>10</td>\n",
       "      <td>22.175921</td>\n",
       "    </tr>\n",
       "    <tr>\n",
       "      <th>10</th>\n",
       "      <td>11</td>\n",
       "      <td>23.687394</td>\n",
       "    </tr>\n",
       "    <tr>\n",
       "      <th>11</th>\n",
       "      <td>12</td>\n",
       "      <td>25.250934</td>\n",
       "    </tr>\n",
       "  </tbody>\n",
       "</table>\n",
       "</div>"
      ],
      "text/plain": [
       "    Month  Maximum temperature (Degree C)\n",
       "0       1                       26.013052\n",
       "1       2                       25.840514\n",
       "2       3                       24.812717\n",
       "3       4                       22.516035\n",
       "4       5                       19.532583\n",
       "5       6                       17.010163\n",
       "6       7                       16.422014\n",
       "7       8                       17.892974\n",
       "8       9                       20.085380\n",
       "9      10                       22.175921\n",
       "10     11                       23.687394\n",
       "11     12                       25.250934"
      ]
     },
     "execution_count": 13,
     "metadata": {},
     "output_type": "execute_result"
    }
   ],
   "source": [
    "new_df"
   ]
  },
  {
   "cell_type": "code",
   "execution_count": 4,
   "metadata": {},
   "outputs": [
    {
     "ename": "NameError",
     "evalue": "name 'temp_sydney_df' is not defined",
     "output_type": "error",
     "traceback": [
      "\u001b[1;31m---------------------------------------------------------------------------\u001b[0m",
      "\u001b[1;31mNameError\u001b[0m                                 Traceback (most recent call last)",
      "\u001b[1;32m<ipython-input-4-8f1bc74fb609>\u001b[0m in \u001b[0;36m<module>\u001b[1;34m\u001b[0m\n\u001b[1;32m----> 1\u001b[1;33m \u001b[0mavg_monthly_temp\u001b[0m \u001b[1;33m=\u001b[0m \u001b[0mtemp_sydney_df\u001b[0m\u001b[1;33m.\u001b[0m\u001b[0mgroupby\u001b[0m\u001b[1;33m(\u001b[0m\u001b[0mby\u001b[0m\u001b[1;33m=\u001b[0m\u001b[1;33m[\u001b[0m\u001b[1;34m'Year'\u001b[0m\u001b[1;33m,\u001b[0m\u001b[1;34m'Month'\u001b[0m\u001b[1;33m]\u001b[0m\u001b[1;33m)\u001b[0m\u001b[1;33m[\u001b[0m\u001b[1;34m'Maximum temperature (Degree C)'\u001b[0m\u001b[1;33m]\u001b[0m\u001b[1;33m.\u001b[0m\u001b[0magg\u001b[0m\u001b[1;33m(\u001b[0m\u001b[1;33m[\u001b[0m\u001b[1;34m'mean'\u001b[0m\u001b[1;33m]\u001b[0m\u001b[1;33m)\u001b[0m\u001b[1;33m.\u001b[0m\u001b[0mreset_index\u001b[0m\u001b[1;33m(\u001b[0m\u001b[1;33m)\u001b[0m\u001b[1;33m\u001b[0m\u001b[1;33m\u001b[0m\u001b[0m\n\u001b[0m\u001b[0;32m      2\u001b[0m \u001b[0mavg_monthly_temp\u001b[0m\u001b[1;33m\u001b[0m\u001b[1;33m\u001b[0m\u001b[0m\n",
      "\u001b[1;31mNameError\u001b[0m: name 'temp_sydney_df' is not defined"
     ]
    }
   ],
   "source": [
    "avg_monthly_temp = temp_sydney_df.groupby(by=['Year','Month'])['Maximum temperature (Degree C)'].agg(['mean']).reset_index()\n",
    "avg_monthly_temp"
   ]
  },
  {
   "cell_type": "code",
   "execution_count": 15,
   "metadata": {},
   "outputs": [],
   "source": [
    "temp_sydney_df['avg monthly temp'] = avg_monthly_temp['mean']"
   ]
  },
  {
   "cell_type": "code",
   "execution_count": 16,
   "metadata": {},
   "outputs": [
    {
     "data": {
      "text/html": [
       "<div>\n",
       "<style scoped>\n",
       "    .dataframe tbody tr th:only-of-type {\n",
       "        vertical-align: middle;\n",
       "    }\n",
       "\n",
       "    .dataframe tbody tr th {\n",
       "        vertical-align: top;\n",
       "    }\n",
       "\n",
       "    .dataframe thead th {\n",
       "        text-align: right;\n",
       "    }\n",
       "</style>\n",
       "<table border=\"1\" class=\"dataframe\">\n",
       "  <thead>\n",
       "    <tr style=\"text-align: right;\">\n",
       "      <th></th>\n",
       "      <th>Product code</th>\n",
       "      <th>Bureau of Meteorology station number</th>\n",
       "      <th>Year</th>\n",
       "      <th>Month</th>\n",
       "      <th>Day</th>\n",
       "      <th>Maximum temperature (Degree C)</th>\n",
       "      <th>Days of accumulation of maximum temperature</th>\n",
       "      <th>Quality</th>\n",
       "      <th>avg monthly temp</th>\n",
       "    </tr>\n",
       "  </thead>\n",
       "  <tbody>\n",
       "    <tr>\n",
       "      <th>59042</th>\n",
       "      <td>IDCJAC0010</td>\n",
       "      <td>66062</td>\n",
       "      <td>2020</td>\n",
       "      <td>8</td>\n",
       "      <td>26</td>\n",
       "      <td>19.6</td>\n",
       "      <td>1.0</td>\n",
       "      <td>Y</td>\n",
       "      <td>NaN</td>\n",
       "    </tr>\n",
       "    <tr>\n",
       "      <th>59043</th>\n",
       "      <td>IDCJAC0010</td>\n",
       "      <td>66062</td>\n",
       "      <td>2020</td>\n",
       "      <td>8</td>\n",
       "      <td>27</td>\n",
       "      <td>22.2</td>\n",
       "      <td>1.0</td>\n",
       "      <td>Y</td>\n",
       "      <td>NaN</td>\n",
       "    </tr>\n",
       "    <tr>\n",
       "      <th>59044</th>\n",
       "      <td>IDCJAC0010</td>\n",
       "      <td>66062</td>\n",
       "      <td>2020</td>\n",
       "      <td>8</td>\n",
       "      <td>28</td>\n",
       "      <td>19.7</td>\n",
       "      <td>1.0</td>\n",
       "      <td>Y</td>\n",
       "      <td>NaN</td>\n",
       "    </tr>\n",
       "    <tr>\n",
       "      <th>59045</th>\n",
       "      <td>IDCJAC0010</td>\n",
       "      <td>66062</td>\n",
       "      <td>2020</td>\n",
       "      <td>8</td>\n",
       "      <td>29</td>\n",
       "      <td>21.5</td>\n",
       "      <td>1.0</td>\n",
       "      <td>Y</td>\n",
       "      <td>NaN</td>\n",
       "    </tr>\n",
       "    <tr>\n",
       "      <th>59046</th>\n",
       "      <td>IDCJAC0010</td>\n",
       "      <td>66062</td>\n",
       "      <td>2020</td>\n",
       "      <td>8</td>\n",
       "      <td>30</td>\n",
       "      <td>25.3</td>\n",
       "      <td>1.0</td>\n",
       "      <td>Y</td>\n",
       "      <td>NaN</td>\n",
       "    </tr>\n",
       "  </tbody>\n",
       "</table>\n",
       "</div>"
      ],
      "text/plain": [
       "      Product code  Bureau of Meteorology station number  Year  Month  Day  \\\n",
       "59042   IDCJAC0010                                 66062  2020      8   26   \n",
       "59043   IDCJAC0010                                 66062  2020      8   27   \n",
       "59044   IDCJAC0010                                 66062  2020      8   28   \n",
       "59045   IDCJAC0010                                 66062  2020      8   29   \n",
       "59046   IDCJAC0010                                 66062  2020      8   30   \n",
       "\n",
       "       Maximum temperature (Degree C)  \\\n",
       "59042                            19.6   \n",
       "59043                            22.2   \n",
       "59044                            19.7   \n",
       "59045                            21.5   \n",
       "59046                            25.3   \n",
       "\n",
       "       Days of accumulation of maximum temperature Quality  avg monthly temp  \n",
       "59042                                          1.0       Y               NaN  \n",
       "59043                                          1.0       Y               NaN  \n",
       "59044                                          1.0       Y               NaN  \n",
       "59045                                          1.0       Y               NaN  \n",
       "59046                                          1.0       Y               NaN  "
      ]
     },
     "execution_count": 16,
     "metadata": {},
     "output_type": "execute_result"
    }
   ],
   "source": [
    "temp_sydney_df.tail()"
   ]
  },
  {
   "cell_type": "markdown",
   "metadata": {},
   "source": [
    "Plotting the month vs the temperature recorded"
   ]
  },
  {
   "cell_type": "code",
   "execution_count": 17,
   "metadata": {},
   "outputs": [],
   "source": [
    "#avg_monthly_temp.plot(x = 'Month', y = 'Mean', kind = 'scatter')"
   ]
  },
  {
   "cell_type": "code",
   "execution_count": 18,
   "metadata": {},
   "outputs": [
    {
     "data": {
      "text/plain": [
       "<AxesSubplot:xlabel='Month'>"
      ]
     },
     "execution_count": 18,
     "metadata": {},
     "output_type": "execute_result"
    },
    {
     "data": {
      "image/png": "[encoded data removed]",
      "text/plain": [
       "<Figure size 432x288 with 1 Axes>"
      ]
     },
     "metadata": {
      "needs_background": "light"
     },
     "output_type": "display_data"
    }
   ],
   "source": [
    "new_df.plot(kind = 'bar', x = 'Month', y ='Maximum temperature (Degree C)')"
   ]
  },
  {
   "cell_type": "code",
   "execution_count": 19,
   "metadata": {
    "scrolled": true
   },
   "outputs": [
    {
     "data": {
      "text/plain": [
       "<AxesSubplot:xlabel='Month', ylabel='Maximum temperature (Degree C)'>"
      ]
     },
     "execution_count": 19,
     "metadata": {},
     "output_type": "execute_result"
    },
    {
     "data": {
      "image/png": "[encoded data removed]",
      "text/plain": [
       "<Figure size 432x288 with 1 Axes>"
      ]
     },
     "metadata": {
      "needs_background": "light"
     },
     "output_type": "display_data"
    }
   ],
   "source": [
    "temp_sydney_df.plot.scatter('Month','Maximum temperature (Degree C)')"
   ]
  },
  {
   "cell_type": "markdown",
   "metadata": {},
   "source": [
    "Create a table of how much hotter each month is than the average.  \n",
    "i.e. How much hotter is January than the average day?  \n",
    "How much hotter is February than the average day?"
   ]
  },
  {
   "cell_type": "code",
   "execution_count": 20,
   "metadata": {},
   "outputs": [
    {
     "data": {
      "text/html": [
       "<div>\n",
       "<style scoped>\n",
       "    .dataframe tbody tr th:only-of-type {\n",
       "        vertical-align: middle;\n",
       "    }\n",
       "\n",
       "    .dataframe tbody tr th {\n",
       "        vertical-align: top;\n",
       "    }\n",
       "\n",
       "    .dataframe thead th {\n",
       "        text-align: right;\n",
       "    }\n",
       "</style>\n",
       "<table border=\"1\" class=\"dataframe\">\n",
       "  <thead>\n",
       "    <tr style=\"text-align: right;\">\n",
       "      <th></th>\n",
       "      <th>Year</th>\n",
       "      <th>Maximum temperature (Degree C)</th>\n",
       "    </tr>\n",
       "  </thead>\n",
       "  <tbody>\n",
       "    <tr>\n",
       "      <th>0</th>\n",
       "      <td>1859</td>\n",
       "      <td>21.40</td>\n",
       "    </tr>\n",
       "    <tr>\n",
       "      <th>1</th>\n",
       "      <td>1860</td>\n",
       "      <td>20.28</td>\n",
       "    </tr>\n",
       "    <tr>\n",
       "      <th>2</th>\n",
       "      <td>1861</td>\n",
       "      <td>20.86</td>\n",
       "    </tr>\n",
       "    <tr>\n",
       "      <th>3</th>\n",
       "      <td>1862</td>\n",
       "      <td>21.35</td>\n",
       "    </tr>\n",
       "    <tr>\n",
       "      <th>4</th>\n",
       "      <td>1863</td>\n",
       "      <td>20.96</td>\n",
       "    </tr>\n",
       "    <tr>\n",
       "      <th>...</th>\n",
       "      <td>...</td>\n",
       "      <td>...</td>\n",
       "    </tr>\n",
       "    <tr>\n",
       "      <th>157</th>\n",
       "      <td>2016</td>\n",
       "      <td>23.84</td>\n",
       "    </tr>\n",
       "    <tr>\n",
       "      <th>158</th>\n",
       "      <td>2017</td>\n",
       "      <td>23.68</td>\n",
       "    </tr>\n",
       "    <tr>\n",
       "      <th>159</th>\n",
       "      <td>2018</td>\n",
       "      <td>23.36</td>\n",
       "    </tr>\n",
       "    <tr>\n",
       "      <th>160</th>\n",
       "      <td>2019</td>\n",
       "      <td>24.01</td>\n",
       "    </tr>\n",
       "    <tr>\n",
       "      <th>161</th>\n",
       "      <td>2020</td>\n",
       "      <td>22.58</td>\n",
       "    </tr>\n",
       "  </tbody>\n",
       "</table>\n",
       "<p>162 rows × 2 columns</p>\n",
       "</div>"
      ],
      "text/plain": [
       "     Year  Maximum temperature (Degree C)\n",
       "0    1859                           21.40\n",
       "1    1860                           20.28\n",
       "2    1861                           20.86\n",
       "3    1862                           21.35\n",
       "4    1863                           20.96\n",
       "..    ...                             ...\n",
       "157  2016                           23.84\n",
       "158  2017                           23.68\n",
       "159  2018                           23.36\n",
       "160  2019                           24.01\n",
       "161  2020                           22.58\n",
       "\n",
       "[162 rows x 2 columns]"
      ]
     },
     "execution_count": 20,
     "metadata": {},
     "output_type": "execute_result"
    }
   ],
   "source": [
    "#temp_sydney_df.groupby(by=['Year','Month'])['Maximum temperature (Degree C)'].agg(['mean'])\n",
    "avg_yearly_temp = temp_sydney_df.groupby(by=['Year'])['Maximum temperature (Degree C)'].mean().round(2).reset_index()\n",
    "avg_yearly_temp['Mean_monthly_temp'] = "
   ]
  },
  {
   "cell_type": "code",
   "execution_count": 21,
   "metadata": {},
   "outputs": [
    {
     "ename": "SyntaxError",
     "evalue": "invalid syntax (<ipython-input-21-35ced35a7a2f>, line 2)",
     "output_type": "error",
     "traceback": [
      "\u001b[0;36m  File \u001b[0;32m\"<ipython-input-21-35ced35a7a2f>\"\u001b[0;36m, line \u001b[0;32m2\u001b[0m\n\u001b[0;31m    temp_sydney_df[\"avg_monthly_temp_minus_avg_yearly_temp\"] = /\u001b[0m\n\u001b[0m                                                               ^\u001b[0m\n\u001b[0;31mSyntaxError\u001b[0m\u001b[0;31m:\u001b[0m invalid syntax\n"
     ]
    }
   ],
   "source": [
    "prod[\"Newlistprice\"] = prod[\"ListPrice\"].apply(lambda x: x + 100)\n",
    "temp_sydney_df[\"avg_monthly_temp_minus_avg_yearly_temp\"] = /\n",
    "temp_sydney_df['Maximum temperature (Degree C)'].apply(lambda x:x - )"
   ]
  },
  {
   "cell_type": "markdown",
   "metadata": {},
   "source": [
    "James recommendation for backfill...  \n",
    "Method to use for filling holes in reindexed Series pad / ffill: propagate last valid observation forward to next valid backfill / bfill: use next valid observation to fill gap."
   ]
  },
  {
   "cell_type": "code",
   "execution_count": null,
   "metadata": {},
   "outputs": [],
   "source": []
  }
 ],
 "metadata": {
  "kernelspec": {
   "display_name": "Python 3",
   "language": "python",
   "name": "python3"
  },
  "language_info": {
   "codemirror_mode": {
    "name": "ipython",
    "version": 3
   },
   "file_extension": ".py",
   "mimetype": "text/x-python",
   "name": "python",
   "nbconvert_exporter": "python",
   "pygments_lexer": "ipython3",
   "version": "3.8.5"
  }
 },
 "nbformat": 4,
 "nbformat_minor": 4
}
